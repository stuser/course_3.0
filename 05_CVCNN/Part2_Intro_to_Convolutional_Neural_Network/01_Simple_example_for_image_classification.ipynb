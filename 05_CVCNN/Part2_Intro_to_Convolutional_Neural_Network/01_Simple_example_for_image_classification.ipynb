{
  "cells": [
    {
      "cell_type": "markdown",
      "metadata": {
        "id": "jVehH4MNhbTP"
      },
      "source": [
        "# **CNN 入門**\n",
        "此份程式碼會介紹透過一個簡單的公開資料集，建置模型、訓練模型，並比較 DNN model 處理影像型資料的差異。"
      ]
    },
    {
      "cell_type": "markdown",
      "metadata": {
        "id": "98Q6g2Bfu6hB"
      },
      "source": [
        "## 匯入所需套件"
      ]
    },
    {
      "cell_type": "code",
      "execution_count": null,
      "metadata": {
        "id": "C-K6b_vfX3iJ"
      },
      "outputs": [],
      "source": [
        "# import package\n",
        "import matplotlib.pyplot as plt\n",
        "import numpy as np"
      ]
    },
    {
      "cell_type": "code",
      "execution_count": null,
      "metadata": {
        "id": "aBUtw-s24-wR"
      },
      "outputs": [],
      "source": [
        "import tensorflow as tf\n",
        "import tensorflow.keras as keras\n",
        "from tensorflow.keras.datasets import cifar10\n",
        "from tensorflow.keras.models import Sequential, Model\n",
        "from tensorflow.keras.layers import (Input, Dense, Dropout, Activation,\n",
        "                                     BatchNormalization, Flatten,\n",
        "                                     Conv2D, MaxPooling2D)"
      ]
    },
    {
      "cell_type": "markdown",
      "metadata": {
        "id": "awautmYIh4a2"
      },
      "source": [
        "## Cifar10 資料讀入及前處理"
      ]
    },
    {
      "cell_type": "markdown",
      "metadata": {
        "id": "3aYh4Zbp4-wS"
      },
      "source": [
        "![image](https://hackmd.io/_uploads/B1VQW0L8T.png)\n"
      ]
    },
    {
      "cell_type": "code",
      "execution_count": null,
      "metadata": {
        "id": "IKC4TPyHX5NE"
      },
      "outputs": [],
      "source": [
        "# cifar10 中有將 data 先分為 train 和 test\n",
        "(x_train, y_train), (x_test, y_test) = cifar10.load_data()\n",
        "\n",
        "print('x_train shape:', x_train.shape)\n",
        "print('y_train.shape:', y_train.shape)\n",
        "print(x_train.shape[0], 'train samples')\n",
        "print(x_test.shape[0], 'test samples')\n",
        "\n",
        "# x_train.shape: 四個維度：第 1 維度為筆數、第 2, 3 維度為影像大小 32*32、第 4 維度是 RGB 三原色，所以是 3\n",
        "# x_train 中有 50000 筆訓練資料，以及 x_test 中有 10000 筆的測試資料"
      ]
    },
    {
      "cell_type": "code",
      "execution_count": null,
      "metadata": {
        "id": "LuE_e_dw4-wW"
      },
      "outputs": [],
      "source": [
        "uniques, counts = np.unique(y_train, return_counts=True)\n",
        "print(uniques, counts)\n",
        "\n",
        "plt.bar(uniques, counts)\n",
        "plt.xticks(uniques)\n",
        "plt.show()"
      ]
    },
    {
      "cell_type": "code",
      "execution_count": null,
      "metadata": {
        "id": "-2Kk71hT4-wX"
      },
      "outputs": [],
      "source": [
        "uniques, counts = np.unique(y_test, return_counts=True)\n",
        "print(uniques, counts)\n",
        "\n",
        "plt.bar(uniques, counts)\n",
        "plt.xticks(uniques)\n",
        "plt.show()"
      ]
    },
    {
      "cell_type": "code",
      "execution_count": null,
      "metadata": {
        "id": "8hRQxZ5y4-wX"
      },
      "outputs": [],
      "source": [
        "plt.imshow(x_train[0])\n",
        "plt.title(\"label: {}\".format(y_train[0]), fontsize=15)     # 第 0 筆圖像資料分類的位置\n",
        "plt.axis(\"off\")\n",
        "plt.show()"
      ]
    },
    {
      "cell_type": "code",
      "execution_count": null,
      "metadata": {
        "id": "D1b1-2VQ4-wX"
      },
      "outputs": [],
      "source": [
        "x_train.dtype"
      ]
    },
    {
      "cell_type": "code",
      "execution_count": null,
      "metadata": {
        "id": "CoW9s8z0X6w3"
      },
      "outputs": [],
      "source": [
        "# 記得轉成 'float32'\n",
        "x_train = x_train.astype('float32')\n",
        "x_test = x_test.astype('float32')\n",
        "\n",
        "# 將 features (照片影像特徵值) 標準化，可以提高模型預測的準確度，並且更快收斂\n",
        "x_train /= 255  # rescaling\n",
        "x_test /= 255   # rescaling"
      ]
    },
    {
      "cell_type": "code",
      "execution_count": null,
      "metadata": {
        "id": "zjl7VQmk_woy"
      },
      "outputs": [],
      "source": [
        "y_train[0:10]    # 0:10筆的類別"
      ]
    },
    {
      "cell_type": "code",
      "execution_count": null,
      "metadata": {
        "id": "eSXBilArX8ih"
      },
      "outputs": [],
      "source": [
        "# 將訓練資料與測試資料的 label，進行 Onehot encoding 轉換\n",
        "num_classes = 10\n",
        "y_train = keras.utils.to_categorical(y_train, num_classes)\n",
        "y_test = keras.utils.to_categorical(y_test, num_classes)\n",
        "\n",
        "# y_train = np.eye(num_classes, dtype='float32')[y_train[:, 0]]\n",
        "# y_test = np.eye(num_classes, dtype='float32')[y_test[:, 0]]\n",
        "\n",
        "print('y_train shape:', y_train.shape)\n",
        "print('y_test shape:', y_test.shape)"
      ]
    },
    {
      "cell_type": "markdown",
      "metadata": {
        "id": "rqCH66zEiJ8m"
      },
      "source": [
        "## 模型定義"
      ]
    },
    {
      "cell_type": "code",
      "execution_count": null,
      "metadata": {
        "id": "5xJctfVWE3hj"
      },
      "outputs": [],
      "source": [
        "dnn_model = Sequential()\n",
        "\n",
        "dnn_model.add(Flatten(input_shape=x_train.shape[1:]))\n",
        "dnn_model.add(Dense(32))\n",
        "dnn_model.add(Activation('relu'))\n",
        "dnn_model.add(Dense(32))\n",
        "dnn_model.add(Activation('relu'))\n",
        "dnn_model.add(Dense(64))\n",
        "dnn_model.add(Activation('relu'))\n",
        "dnn_model.add(Dense(64))\n",
        "dnn_model.add(Activation('relu'))\n",
        "dnn_model.add(Dense(num_classes))\n",
        "dnn_model.add(Activation('softmax'))"
      ]
    },
    {
      "cell_type": "code",
      "execution_count": null,
      "metadata": {
        "id": "r26pGK_B4-wa"
      },
      "outputs": [],
      "source": [
        "dnn_model.summary()"
      ]
    },
    {
      "cell_type": "markdown",
      "metadata": {
        "id": "lku3uYxt4-wa"
      },
      "source": [
        "* ### CNN Model\n",
        "![image](https://hackmd.io/_uploads/r19BZCLUT.png)"
      ]
    },
    {
      "cell_type": "code",
      "execution_count": null,
      "metadata": {
        "id": "3cZSnAQjX-M_"
      },
      "outputs": [],
      "source": [
        "# 選擇 Keras 的 API 寫法\n",
        "inputs = Input(shape=x_train.shape[1:])\n",
        "\n",
        "# 第一層\n",
        "# 建立卷積層，設定32個3*3的filters\n",
        "# 設定ReLU為激活函數。\n",
        "x = Conv2D(32, (3, 3), activation='relu')(inputs)\n",
        "\n",
        "# 第二層 - 卷積層 + 池化層\n",
        "x = Conv2D(32, (3, 3), activation='relu')(x)\n",
        "x = MaxPooling2D(pool_size=(2, 2))(x)\n",
        "\n",
        "# 第三層 - 卷積層\n",
        "x = Conv2D(64, (3, 3), activation='relu')(x)\n",
        "\n",
        "# 第四層 - 卷積層 + 池化層\n",
        "x = Conv2D(64, (3, 3), activation='relu')(x)\n",
        "x = MaxPooling2D(pool_size=(2, 2))(x)\n",
        "\n",
        "# 建立分類模型 (MLP) : 平坦層 + 輸出層 (10)\n",
        "x = Flatten()(x)\n",
        "outputs = Dense(num_classes, activation='softmax')(x)\n",
        "\n",
        "\n",
        "cnn_model = Model(inputs=inputs, outputs=outputs)"
      ]
    },
    {
      "cell_type": "code",
      "execution_count": null,
      "metadata": {
        "id": "clNfFd5Z4-wa"
      },
      "outputs": [],
      "source": [
        "cnn_model.summary()"
      ]
    },
    {
      "cell_type": "code",
      "execution_count": null,
      "metadata": {
        "id": "8tie_2BzYAF0"
      },
      "outputs": [],
      "source": [
        "# 編譯模型\n",
        "# 選用 Adam 為 optimizer\n",
        "learning_rate = 0.0001\n",
        "optimizer = keras.optimizers.Adam(learning_rate=learning_rate)\n",
        "\n",
        "dnn_model.compile(loss='categorical_crossentropy',\n",
        "                  optimizer=optimizer,\n",
        "                  metrics=['accuracy'])\n",
        "cnn_model.compile(loss='categorical_crossentropy',\n",
        "                  optimizer=optimizer,\n",
        "                  metrics=['accuracy'])"
      ]
    },
    {
      "cell_type": "markdown",
      "metadata": {
        "id": "CkrKrXctigSI"
      },
      "source": [
        "## 開始訓練模型"
      ]
    },
    {
      "cell_type": "code",
      "execution_count": null,
      "metadata": {
        "id": "RX-1R6zP4-wb"
      },
      "outputs": [],
      "source": [
        "batch_size = 32\n",
        "epochs = 20"
      ]
    },
    {
      "cell_type": "code",
      "execution_count": null,
      "metadata": {
        "id": "3-2yHC87YRXh"
      },
      "outputs": [],
      "source": [
        "print('Training DNN model')\n",
        "dnn_history = dnn_model.fit(x_train, y_train,\n",
        "                            batch_size=batch_size,\n",
        "                            epochs=epochs,\n",
        "                            validation_data=(x_test, y_test),\n",
        "                            verbose=1)\n",
        "print('Training CNN model')\n",
        "cnn_history = cnn_model.fit(x_train, y_train,\n",
        "                            batch_size=batch_size,\n",
        "                            epochs=epochs,\n",
        "                            validation_data=(x_test, y_test),\n",
        "                            verbose=1)"
      ]
    },
    {
      "cell_type": "markdown",
      "metadata": {
        "id": "LkvF_ek87SFe"
      },
      "source": [
        "## 測試資料"
      ]
    },
    {
      "cell_type": "code",
      "execution_count": null,
      "metadata": {
        "id": "HvMffc1z7SFg"
      },
      "outputs": [],
      "source": [
        "test_pred = cnn_model.predict(x_test[0:1]).argmax(-1)\n",
        "\n",
        "plt.imshow(x_test[0])\n",
        "print('prediction: ', test_pred)"
      ]
    },
    {
      "cell_type": "code",
      "execution_count": null,
      "metadata": {
        "id": "nOTt1fjIvIb5"
      },
      "outputs": [],
      "source": [
        "print(y_test[0])"
      ]
    },
    {
      "cell_type": "code",
      "execution_count": null,
      "metadata": {
        "id": "SmOJB7iC4-wc"
      },
      "outputs": [],
      "source": [
        "dnn_loss, dnn_acc = dnn_model.evaluate(x_test, y_test, verbose=2)\n",
        "cnn_loss, cnn_acc = cnn_model.evaluate(x_test, y_test, verbose=2)"
      ]
    },
    {
      "cell_type": "markdown",
      "metadata": {
        "id": "P6OaWCuWimfe"
      },
      "source": [
        "## 訓練結果視覺化"
      ]
    },
    {
      "cell_type": "code",
      "execution_count": null,
      "metadata": {
        "id": "DEj3hkCJZqFf"
      },
      "outputs": [],
      "source": [
        "history_list = [cnn_history, dnn_history]\n",
        "history_train_acc = [\"cnn_train_acc\", \"dnn_train_acc\"]\n",
        "history_valid_acc = [\"cnn_valid_acc\", \"dnn_valid_acc\"]\n",
        "history_train_loss = [\"cnn_train_loss\", \"dnn_train_loss\"]\n",
        "history_valid_loss = [\"cnn_valid_loss\", \"dnn_valid_loss\"]"
      ]
    },
    {
      "cell_type": "code",
      "execution_count": null,
      "metadata": {
        "id": "p-H_2wjabXas"
      },
      "outputs": [],
      "source": [
        "plt.figure(figsize=(20, 6))\n",
        "\n",
        "# training loss\n",
        "plt.subplot(1, 2, 1)\n",
        "for each_his, each_train, each_valid in zip(history_list,\n",
        "                                            history_train_loss,\n",
        "                                            history_valid_loss):\n",
        "    l_x = len(each_his.history['loss'])\n",
        "    plt.plot(np.arange(l_x), each_his.history['loss'], label=each_train)\n",
        "    plt.plot(np.arange(l_x), each_his.history['val_loss'], label=each_valid)\n",
        "plt.legend(loc='best')\n",
        "plt.title('Loss')\n",
        "\n",
        "# training acc\n",
        "plt.subplot(1, 2, 2)\n",
        "for each_his, each_train, each_valid in zip(history_list,\n",
        "                                            history_train_acc,\n",
        "                                            history_valid_acc):\n",
        "    l_x = len(each_his.history['accuracy'])\n",
        "    plt.plot(np.arange(l_x), each_his.history['accuracy'], label=each_train)\n",
        "    plt.plot(np.arange(l_x), each_his.history['val_accuracy'], label=each_valid)\n",
        "plt.legend(loc='best')\n",
        "plt.title('Accuracy')\n",
        "plt.show()"
      ]
    },
    {
      "cell_type": "code",
      "execution_count": null,
      "metadata": {
        "id": "HOx4z6T04-wc"
      },
      "outputs": [],
      "source": []
    }
  ],
  "metadata": {
    "accelerator": "GPU",
    "colab": {
      "name": "ex0_CNN_practice_simple.ipynb",
      "provenance": []
    },
    "kernelspec": {
      "display_name": "Python 3 (ipykernel)",
      "language": "python",
      "name": "python3"
    },
    "language_info": {
      "codemirror_mode": {
        "name": "ipython",
        "version": 3
      },
      "file_extension": ".py",
      "mimetype": "text/x-python",
      "name": "python",
      "nbconvert_exporter": "python",
      "pygments_lexer": "ipython3",
      "version": "3.7.12"
    }
  },
  "nbformat": 4,
  "nbformat_minor": 0
}