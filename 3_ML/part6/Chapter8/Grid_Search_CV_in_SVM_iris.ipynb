{
 "cells": [
  {
   "cell_type": "code",
   "execution_count": 2,
   "metadata": {},
   "outputs": [],
   "source": [
    "import numpy as np\n",
    "import matplotlib.pyplot as plt\n",
    "from sklearn import svm, datasets\n",
    "from matplotlib.pylab import rcParams\n",
    "\n",
    "%matplotlib inline\n",
    "rcParams['figure.figsize'] = 10, 5\n",
    "iris = datasets.load_iris()\n",
    "X = iris.data\n",
    "y = iris.target"
   ]
  },
  {
   "cell_type": "markdown",
   "metadata": {},
   "source": [
    "# Grid Search for SVM Parameters"
   ]
  },
  {
   "cell_type": "code",
   "execution_count": 3,
   "metadata": {},
   "outputs": [
    {
     "data": {
      "text/plain": [
       "GridSearchCV(cv=5, error_score='raise-deprecating',\n",
       "             estimator=SVC(C=1.0, cache_size=200, class_weight=None, coef0=0.0,\n",
       "                           decision_function_shape='ovr', degree=3,\n",
       "                           gamma='auto_deprecated', kernel='rbf', max_iter=-1,\n",
       "                           probability=False, random_state=None, shrinking=True,\n",
       "                           tol=0.001, verbose=False),\n",
       "             iid='warn', n_jobs=None,\n",
       "             param_grid={'C': [0.01, 0.1, 1, 10], 'gamma': [0.01, 0.1, 1, 10],\n",
       "                         'kernel': ['linear', 'rbf']},\n",
       "             pre_dispatch='2*n_jobs', refit=True,\n",
       "             return_train_score='cv_results_', scoring='accuracy', verbose=0)"
      ]
     },
     "execution_count": 3,
     "metadata": {},
     "output_type": "execute_result"
    }
   ],
   "source": [
    "from sklearn.model_selection import GridSearchCV\n",
    "parameters = {\n",
    "    'kernel': ['linear', 'rbf'],\n",
    "    'C': [0.01, 0.1, 1, 10],\n",
    "    'gamma': [0.01, 0.1, 1, 10]\n",
    "}\n",
    "model = svm.SVC()\n",
    "model.fit(X, y)\n",
    "best_model = GridSearchCV(model,\n",
    "                          parameters,\n",
    "                          cv=5,\n",
    "                          scoring='accuracy',\n",
    "                          return_train_score='cv_results_')\n",
    "best_model.fit(X, y)"
   ]
  },
  {
   "cell_type": "code",
   "execution_count": 4,
   "metadata": {},
   "outputs": [
    {
     "name": "stdout",
     "output_type": "stream",
     "text": [
      "accuracy before Grid Search CV:0.9867\n",
      "accuracy after Grid Search CV:0.9933\n"
     ]
    }
   ],
   "source": [
    "print('accuracy before Grid Search CV:%.4f' % model.score(X, y))\n",
    "print('accuracy after Grid Search CV:%.4f' % best_model.score(X, y))"
   ]
  },
  {
   "cell_type": "markdown",
   "metadata": {},
   "source": [
    "# Best Parameter"
   ]
  },
  {
   "cell_type": "code",
   "execution_count": 5,
   "metadata": {},
   "outputs": [
    {
     "data": {
      "text/plain": [
       "SVC(C=1, cache_size=200, class_weight=None, coef0=0.0,\n",
       "    decision_function_shape='ovr', degree=3, gamma=0.01, kernel='linear',\n",
       "    max_iter=-1, probability=False, random_state=None, shrinking=True,\n",
       "    tol=0.001, verbose=False)"
      ]
     },
     "execution_count": 5,
     "metadata": {},
     "output_type": "execute_result"
    }
   ],
   "source": [
    "best_model.best_estimator_"
   ]
  },
  {
   "cell_type": "code",
   "execution_count": 6,
   "metadata": {
    "scrolled": false
   },
   "outputs": [
    {
     "data": {
      "text/plain": [
       "{'mean_fit_time': array([0.00064006, 0.000946  , 0.0007504 , 0.00097432, 0.00055842,\n",
       "        0.00076637, 0.00042362, 0.000736  , 0.00053878, 0.00070262,\n",
       "        0.00047994, 0.0005414 , 0.00034122, 0.00073295, 0.00033898,\n",
       "        0.00070133, 0.00033503, 0.00047474, 0.00032182, 0.00042534,\n",
       "        0.00033188, 0.00050545, 0.00032644, 0.00088015, 0.00038862,\n",
       "        0.00036812, 0.00035772, 0.0003931 , 0.0003561 , 0.00047474,\n",
       "        0.00033035, 0.00085111]),\n",
       " 'std_fit_time': array([9.56033649e-05, 2.17167965e-04, 5.35627595e-05, 2.26900876e-04,\n",
       "        1.03831486e-04, 2.65348632e-05, 1.12783833e-05, 5.31952404e-05,\n",
       "        8.05393911e-05, 1.55356737e-05, 1.77552350e-04, 1.46873585e-05,\n",
       "        1.56104280e-05, 1.76755463e-04, 6.15175378e-06, 2.01429697e-05,\n",
       "        1.34078605e-05, 8.28023297e-06, 1.62190536e-05, 4.25102399e-05,\n",
       "        1.81993196e-05, 6.34198798e-05, 2.09305985e-05, 3.16630645e-05,\n",
       "        8.73670561e-05, 4.97375672e-06, 3.25605417e-05, 4.90099531e-06,\n",
       "        3.97006955e-05, 1.76818522e-05, 2.30024387e-05, 1.78004020e-05]),\n",
       " 'mean_score_time': array([0.000383  , 0.00032744, 0.00046854, 0.000457  , 0.00032043,\n",
       "        0.00033879, 0.00021958, 0.00026517, 0.00032554, 0.00030103,\n",
       "        0.00027862, 0.00024896, 0.00020752, 0.00032802, 0.00020757,\n",
       "        0.00025239, 0.00022626, 0.00023403, 0.00019784, 0.00025182,\n",
       "        0.00022054, 0.00022802, 0.00020299, 0.00024977, 0.00020709,\n",
       "        0.00021362, 0.00022216, 0.00022025, 0.0002162 , 0.00021396,\n",
       "        0.00020275, 0.00023994]),\n",
       " 'std_score_time': array([1.18439919e-04, 5.02961723e-05, 1.09751238e-04, 2.24460344e-04,\n",
       "        8.51419418e-05, 8.46512879e-05, 5.14674977e-06, 1.40722716e-05,\n",
       "        2.72004567e-05, 6.92446694e-05, 8.61752534e-05, 9.88146503e-06,\n",
       "        4.00826944e-06, 1.19609865e-04, 4.67105747e-06, 5.88966280e-06,\n",
       "        3.22389176e-05, 3.32284000e-06, 3.74977174e-06, 6.33336686e-05,\n",
       "        3.03768100e-05, 1.68091693e-05, 5.65730665e-06, 1.30609867e-05,\n",
       "        1.64357406e-05, 2.98547284e-06, 3.44570198e-05, 1.03862971e-05,\n",
       "        2.72396331e-05, 2.17784638e-06, 1.14625543e-05, 2.25478943e-06]),\n",
       " 'param_C': masked_array(data=[0.01, 0.01, 0.01, 0.01, 0.01, 0.01, 0.01, 0.01, 0.1,\n",
       "                    0.1, 0.1, 0.1, 0.1, 0.1, 0.1, 0.1, 1, 1, 1, 1, 1, 1, 1,\n",
       "                    1, 10, 10, 10, 10, 10, 10, 10, 10],\n",
       "              mask=[False, False, False, False, False, False, False, False,\n",
       "                    False, False, False, False, False, False, False, False,\n",
       "                    False, False, False, False, False, False, False, False,\n",
       "                    False, False, False, False, False, False, False, False],\n",
       "        fill_value='?',\n",
       "             dtype=object),\n",
       " 'param_gamma': masked_array(data=[0.01, 0.01, 0.1, 0.1, 1, 1, 10, 10, 0.01, 0.01, 0.1,\n",
       "                    0.1, 1, 1, 10, 10, 0.01, 0.01, 0.1, 0.1, 1, 1, 10, 10,\n",
       "                    0.01, 0.01, 0.1, 0.1, 1, 1, 10, 10],\n",
       "              mask=[False, False, False, False, False, False, False, False,\n",
       "                    False, False, False, False, False, False, False, False,\n",
       "                    False, False, False, False, False, False, False, False,\n",
       "                    False, False, False, False, False, False, False, False],\n",
       "        fill_value='?',\n",
       "             dtype=object),\n",
       " 'param_kernel': masked_array(data=['linear', 'rbf', 'linear', 'rbf', 'linear', 'rbf',\n",
       "                    'linear', 'rbf', 'linear', 'rbf', 'linear', 'rbf',\n",
       "                    'linear', 'rbf', 'linear', 'rbf', 'linear', 'rbf',\n",
       "                    'linear', 'rbf', 'linear', 'rbf', 'linear', 'rbf',\n",
       "                    'linear', 'rbf', 'linear', 'rbf', 'linear', 'rbf',\n",
       "                    'linear', 'rbf'],\n",
       "              mask=[False, False, False, False, False, False, False, False,\n",
       "                    False, False, False, False, False, False, False, False,\n",
       "                    False, False, False, False, False, False, False, False,\n",
       "                    False, False, False, False, False, False, False, False],\n",
       "        fill_value='?',\n",
       "             dtype=object),\n",
       " 'params': [{'C': 0.01, 'gamma': 0.01, 'kernel': 'linear'},\n",
       "  {'C': 0.01, 'gamma': 0.01, 'kernel': 'rbf'},\n",
       "  {'C': 0.01, 'gamma': 0.1, 'kernel': 'linear'},\n",
       "  {'C': 0.01, 'gamma': 0.1, 'kernel': 'rbf'},\n",
       "  {'C': 0.01, 'gamma': 1, 'kernel': 'linear'},\n",
       "  {'C': 0.01, 'gamma': 1, 'kernel': 'rbf'},\n",
       "  {'C': 0.01, 'gamma': 10, 'kernel': 'linear'},\n",
       "  {'C': 0.01, 'gamma': 10, 'kernel': 'rbf'},\n",
       "  {'C': 0.1, 'gamma': 0.01, 'kernel': 'linear'},\n",
       "  {'C': 0.1, 'gamma': 0.01, 'kernel': 'rbf'},\n",
       "  {'C': 0.1, 'gamma': 0.1, 'kernel': 'linear'},\n",
       "  {'C': 0.1, 'gamma': 0.1, 'kernel': 'rbf'},\n",
       "  {'C': 0.1, 'gamma': 1, 'kernel': 'linear'},\n",
       "  {'C': 0.1, 'gamma': 1, 'kernel': 'rbf'},\n",
       "  {'C': 0.1, 'gamma': 10, 'kernel': 'linear'},\n",
       "  {'C': 0.1, 'gamma': 10, 'kernel': 'rbf'},\n",
       "  {'C': 1, 'gamma': 0.01, 'kernel': 'linear'},\n",
       "  {'C': 1, 'gamma': 0.01, 'kernel': 'rbf'},\n",
       "  {'C': 1, 'gamma': 0.1, 'kernel': 'linear'},\n",
       "  {'C': 1, 'gamma': 0.1, 'kernel': 'rbf'},\n",
       "  {'C': 1, 'gamma': 1, 'kernel': 'linear'},\n",
       "  {'C': 1, 'gamma': 1, 'kernel': 'rbf'},\n",
       "  {'C': 1, 'gamma': 10, 'kernel': 'linear'},\n",
       "  {'C': 1, 'gamma': 10, 'kernel': 'rbf'},\n",
       "  {'C': 10, 'gamma': 0.01, 'kernel': 'linear'},\n",
       "  {'C': 10, 'gamma': 0.01, 'kernel': 'rbf'},\n",
       "  {'C': 10, 'gamma': 0.1, 'kernel': 'linear'},\n",
       "  {'C': 10, 'gamma': 0.1, 'kernel': 'rbf'},\n",
       "  {'C': 10, 'gamma': 1, 'kernel': 'linear'},\n",
       "  {'C': 10, 'gamma': 1, 'kernel': 'rbf'},\n",
       "  {'C': 10, 'gamma': 10, 'kernel': 'linear'},\n",
       "  {'C': 10, 'gamma': 10, 'kernel': 'rbf'}],\n",
       " 'split0_test_score': array([0.9       , 0.86666667, 0.9       , 0.9       , 0.9       ,\n",
       "        0.93333333, 0.9       , 0.76666667, 0.96666667, 0.86666667,\n",
       "        0.96666667, 0.9       , 0.96666667, 0.93333333, 0.96666667,\n",
       "        0.76666667, 0.96666667, 0.9       , 0.96666667, 0.96666667,\n",
       "        0.96666667, 0.96666667, 0.96666667, 1.        , 1.        ,\n",
       "        0.96666667, 1.        , 0.96666667, 1.        , 0.96666667,\n",
       "        1.        , 1.        ]),\n",
       " 'split1_test_score': array([0.96666667, 0.96666667, 0.96666667, 0.93333333, 0.96666667,\n",
       "        0.96666667, 0.96666667, 0.7       , 0.96666667, 0.96666667,\n",
       "        0.96666667, 0.93333333, 0.96666667, 0.96666667, 0.96666667,\n",
       "        0.7       , 1.        , 0.96666667, 1.        , 1.        ,\n",
       "        1.        , 1.        , 1.        , 0.9       , 1.        ,\n",
       "        1.        , 1.        , 1.        , 1.        , 0.96666667,\n",
       "        1.        , 0.9       ]),\n",
       " 'split2_test_score': array([0.86666667, 0.83333333, 0.86666667, 0.86666667, 0.86666667,\n",
       "        0.96666667, 0.86666667, 0.7       , 0.96666667, 0.83333333,\n",
       "        0.96666667, 0.9       , 0.96666667, 0.93333333, 0.96666667,\n",
       "        0.7       , 0.96666667, 0.86666667, 0.96666667, 0.96666667,\n",
       "        0.96666667, 0.9       , 0.96666667, 0.86666667, 0.9       ,\n",
       "        0.96666667, 0.9       , 0.96666667, 0.9       , 0.9       ,\n",
       "        0.9       , 0.86666667]),\n",
       " 'split3_test_score': array([0.96666667, 0.96666667, 0.96666667, 0.93333333, 0.96666667,\n",
       "        0.93333333, 0.96666667, 0.83333333, 0.96666667, 0.96666667,\n",
       "        0.96666667, 0.93333333, 0.96666667, 0.96666667, 0.96666667,\n",
       "        0.83333333, 0.96666667, 0.93333333, 0.96666667, 0.96666667,\n",
       "        0.96666667, 0.96666667, 0.96666667, 0.96666667, 0.96666667,\n",
       "        0.96666667, 0.96666667, 0.96666667, 0.96666667, 0.93333333,\n",
       "        0.96666667, 0.93333333]),\n",
       " 'split4_test_score': array([0.9       , 0.93333333, 0.9       , 0.93333333, 0.9       ,\n",
       "        1.        , 0.9       , 0.83333333, 1.        , 0.93333333,\n",
       "        1.        , 0.93333333, 1.        , 1.        , 1.        ,\n",
       "        0.83333333, 1.        , 1.        , 1.        , 1.        ,\n",
       "        1.        , 1.        , 1.        , 0.96666667, 1.        ,\n",
       "        1.        , 1.        , 1.        , 1.        , 1.        ,\n",
       "        1.        , 0.96666667]),\n",
       " 'mean_test_score': array([0.92      , 0.91333333, 0.92      , 0.91333333, 0.92      ,\n",
       "        0.96      , 0.92      , 0.76666667, 0.97333333, 0.91333333,\n",
       "        0.97333333, 0.92      , 0.97333333, 0.96      , 0.97333333,\n",
       "        0.76666667, 0.98      , 0.93333333, 0.98      , 0.98      ,\n",
       "        0.98      , 0.96666667, 0.98      , 0.94      , 0.97333333,\n",
       "        0.98      , 0.97333333, 0.98      , 0.97333333, 0.95333333,\n",
       "        0.97333333, 0.93333333]),\n",
       " 'std_test_score': array([0.04      , 0.05416026, 0.04      , 0.02666667, 0.04      ,\n",
       "        0.02494438, 0.04      , 0.05962848, 0.01333333, 0.05416026,\n",
       "        0.01333333, 0.01632993, 0.01333333, 0.02494438, 0.01333333,\n",
       "        0.05962848, 0.01632993, 0.04714045, 0.01632993, 0.01632993,\n",
       "        0.01632993, 0.03651484, 0.01632993, 0.04898979, 0.03887301,\n",
       "        0.01632993, 0.03887301, 0.01632993, 0.03887301, 0.03399346,\n",
       "        0.03887301, 0.04714045]),\n",
       " 'rank_test_score': array([23, 28, 23, 28, 23, 17, 23, 31,  8, 28,  8, 23,  8, 17,  8, 31,  1,\n",
       "        21,  1,  1,  1, 16,  1, 20,  8,  1,  8,  1,  8, 19,  8, 21],\n",
       "       dtype=int32),\n",
       " 'split0_train_score': array([0.9       , 0.925     , 0.9       , 0.925     , 0.9       ,\n",
       "        0.975     , 0.9       , 0.875     , 0.975     , 0.925     ,\n",
       "        0.975     , 0.95      , 0.975     , 0.975     , 0.975     ,\n",
       "        0.875     , 0.975     , 0.95833333, 0.975     , 0.975     ,\n",
       "        0.975     , 0.975     , 0.975     , 1.        , 0.96666667,\n",
       "        0.975     , 0.96666667, 0.975     , 0.96666667, 0.975     ,\n",
       "        0.96666667, 1.        ]),\n",
       " 'split1_train_score': array([0.925     , 0.91666667, 0.925     , 0.94166667, 0.925     ,\n",
       "        0.95833333, 0.925     , 0.90833333, 0.95      , 0.91666667,\n",
       "        0.95      , 0.94166667, 0.95      , 0.95833333, 0.95      ,\n",
       "        0.90833333, 0.975     , 0.93333333, 0.975     , 0.95833333,\n",
       "        0.975     , 0.98333333, 0.975     , 1.        , 0.96666667,\n",
       "        0.975     , 0.96666667, 0.98333333, 0.96666667, 0.98333333,\n",
       "        0.96666667, 1.        ]),\n",
       " 'split2_train_score': array([0.95833333, 0.93333333, 0.95833333, 0.94166667, 0.95833333,\n",
       "        0.96666667, 0.95833333, 0.88333333, 0.98333333, 0.93333333,\n",
       "        0.98333333, 0.95833333, 0.98333333, 0.98333333, 0.98333333,\n",
       "        0.88333333, 0.99166667, 0.96666667, 0.99166667, 0.975     ,\n",
       "        0.99166667, 0.99166667, 0.99166667, 1.        , 0.99166667,\n",
       "        0.98333333, 0.99166667, 0.99166667, 0.99166667, 0.99166667,\n",
       "        0.99166667, 1.        ]),\n",
       " 'split3_train_score': array([0.94166667, 0.925     , 0.94166667, 0.94166667, 0.94166667,\n",
       "        0.96666667, 0.94166667, 0.9       , 0.975     , 0.925     ,\n",
       "        0.975     , 0.94166667, 0.975     , 0.975     , 0.975     ,\n",
       "        0.9       , 0.98333333, 0.95      , 0.98333333, 1.        ,\n",
       "        0.98333333, 0.99166667, 0.98333333, 1.        , 0.99166667,\n",
       "        0.98333333, 0.99166667, 0.99166667, 0.99166667, 0.99166667,\n",
       "        0.99166667, 1.        ]),\n",
       " 'split4_train_score': array([0.90833333, 0.9       , 0.90833333, 0.9       , 0.90833333,\n",
       "        0.94166667, 0.90833333, 0.89166667, 0.93333333, 0.9       ,\n",
       "        0.93333333, 0.90833333, 0.93333333, 0.95      , 0.93333333,\n",
       "        0.89166667, 0.98333333, 0.91666667, 0.98333333, 0.95833333,\n",
       "        0.98333333, 0.99166667, 0.98333333, 1.        , 0.975     ,\n",
       "        0.95833333, 0.975     , 0.98333333, 0.975     , 0.98333333,\n",
       "        0.975     , 1.        ]),\n",
       " 'mean_train_score': array([0.92666667, 0.92      , 0.92666667, 0.93      , 0.92666667,\n",
       "        0.96166667, 0.92666667, 0.89166667, 0.96333333, 0.92      ,\n",
       "        0.96333333, 0.94      , 0.96333333, 0.96833333, 0.96333333,\n",
       "        0.89166667, 0.98166667, 0.945     , 0.98166667, 0.97333333,\n",
       "        0.98166667, 0.98666667, 0.98166667, 1.        , 0.97833333,\n",
       "        0.975     , 0.97833333, 0.985     , 0.97833333, 0.985     ,\n",
       "        0.97833333, 1.        ]),\n",
       " 'std_train_score': array([0.02134375, 0.01130388, 0.02134375, 0.01632993, 0.02134375,\n",
       "        0.01130388, 0.02134375, 0.01178511, 0.01870829, 0.01130388,\n",
       "        0.01870829, 0.01699673, 0.01870829, 0.01224745, 0.01870829,\n",
       "        0.01178511, 0.0062361 , 0.01795055, 0.0062361 , 0.01527525,\n",
       "        0.0062361 , 0.00666667, 0.0062361 , 0.        , 0.01130388,\n",
       "        0.00912871, 0.01130388, 0.0062361 , 0.01130388, 0.0062361 ,\n",
       "        0.01130388, 0.        ])}"
      ]
     },
     "execution_count": 6,
     "metadata": {},
     "output_type": "execute_result"
    }
   ],
   "source": [
    "best_model.cv_results_"
   ]
  },
  {
   "cell_type": "code",
   "execution_count": null,
   "metadata": {
    "collapsed": true
   },
   "outputs": [],
   "source": []
  }
 ],
 "metadata": {
  "kernelspec": {
   "display_name": "Python 3",
   "language": "python",
   "name": "python3"
  },
  "language_info": {
   "codemirror_mode": {
    "name": "ipython",
    "version": 3
   },
   "file_extension": ".py",
   "mimetype": "text/x-python",
   "name": "python",
   "nbconvert_exporter": "python",
   "pygments_lexer": "ipython3",
   "version": "3.7.4"
  },
  "toc": {
   "base_numbering": 1,
   "nav_menu": {},
   "number_sections": true,
   "sideBar": true,
   "skip_h1_title": false,
   "title_cell": "Table of Contents",
   "title_sidebar": "Contents",
   "toc_cell": false,
   "toc_position": {},
   "toc_section_display": true,
   "toc_window_display": false
  }
 },
 "nbformat": 4,
 "nbformat_minor": 2
}
