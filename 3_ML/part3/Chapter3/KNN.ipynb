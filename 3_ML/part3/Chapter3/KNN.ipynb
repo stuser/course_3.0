{
 "cells": [
  {
   "cell_type": "code",
   "execution_count": 2,
   "metadata": {},
   "outputs": [],
   "source": [
    "import numpy as np\n",
    "import pandas as pd\n",
    "from sklearn.datasets import load_iris\n",
    "from sklearn.model_selection import train_test_split\n",
    "from sklearn import metrics\n",
    "from sklearn.neighbors import KNeighborsClassifier"
   ]
  },
  {
   "cell_type": "code",
   "execution_count": 3,
   "metadata": {},
   "outputs": [],
   "source": [
    "# load iris data\n",
    "iris = load_iris()\n",
    "iris_X = iris.data\n",
    "iris_y = iris.target"
   ]
  },
  {
   "cell_type": "code",
   "execution_count": 4,
   "metadata": {},
   "outputs": [],
   "source": [
    "# split training data\n",
    "train_X, val_X, train_y, val_y = train_test_split(iris_X,\n",
    "                                                  iris_y,\n",
    "                                                  test_size=0.3,\n",
    "                                                  random_state=5566)"
   ]
  },
  {
   "cell_type": "code",
   "execution_count": 5,
   "metadata": {},
   "outputs": [],
   "source": [
    "# create KNN model\n",
    "model = KNeighborsClassifier(n_neighbors=3)\n",
    "\n",
    "# Train the model using the training sets\n",
    "model.fit(train_X, train_y)\n",
    "\n",
    "# Predict Output\n",
    "predicted = model.predict(val_X)"
   ]
  },
  {
   "cell_type": "code",
   "execution_count": 6,
   "metadata": {},
   "outputs": [
    {
     "name": "stdout",
     "output_type": "stream",
     "text": [
      "val_y:  [0 1 0 1 2 0 2 1 0 1 2 0 1 1 2 1 2 0 2 1 2 0 1 1 0 0 2 2 0 1 0 0 2 2 1 1 0\n",
      " 2 2 2 0 1 2 0 2]\n",
      "pred_y: [0 1 0 1 2 0 2 1 0 1 2 0 1 1 2 1 2 0 2 1 2 0 2 1 0 0 2 2 0 1 0 0 2 2 1 1 0\n",
      " 1 2 2 0 1 2 0 2]\n"
     ]
    }
   ],
   "source": [
    "print('val_y: ', val_y)\n",
    "print('pred_y:', predicted)"
   ]
  },
  {
   "cell_type": "code",
   "execution_count": 7,
   "metadata": {},
   "outputs": [
    {
     "name": "stdout",
     "output_type": "stream",
     "text": [
      "accuracy:  0.9555555555555556\n"
     ]
    }
   ],
   "source": [
    "# accuracy\n",
    "acc = metrics.accuracy_score(y_true=val_y, y_pred=predicted)\n",
    "print('accuracy: ', acc)"
   ]
  },
  {
   "cell_type": "code",
   "execution_count": null,
   "metadata": {},
   "outputs": [],
   "source": []
  }
 ],
 "metadata": {
  "kernelspec": {
   "display_name": "Python 3",
   "language": "python",
   "name": "python3"
  },
  "language_info": {
   "codemirror_mode": {
    "name": "ipython",
    "version": 3
   },
   "file_extension": ".py",
   "mimetype": "text/x-python",
   "name": "python",
   "nbconvert_exporter": "python",
   "pygments_lexer": "ipython3",
   "version": "3.7.4"
  },
  "toc": {
   "base_numbering": 1,
   "nav_menu": {},
   "number_sections": true,
   "sideBar": true,
   "skip_h1_title": false,
   "title_cell": "Table of Contents",
   "title_sidebar": "Contents",
   "toc_cell": false,
   "toc_position": {},
   "toc_section_display": true,
   "toc_window_display": false
  }
 },
 "nbformat": 4,
 "nbformat_minor": 2
}
